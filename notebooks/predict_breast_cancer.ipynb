{
 "cells": [
  {
   "cell_type": "markdown",
   "id": "df7daf4f",
   "metadata": {},
   "source": [
    "<br />\n",
    "\n",
    "<h1 align=\"center\">Predict Breast Cancer</h1>\n",
    "<h5 align=\"center\">by</h5>\n",
    "<h3 align=\"center\">Monde Anna</h3>\n",
    "\n",
    "<br />\n",
    "<br />\n"
   ]
  },
  {
   "cell_type": "markdown",
   "id": "743cb183",
   "metadata": {},
   "source": [
    "<p>We will predict the class of breast cancer from the features of images taken from breast samples. The classes to be predicted are:\n",
    "    <ul>\n",
    "        <li><b><i>Malignant:</i></b> The form we wish to avoid; or</li>\n",
    "        <li><b><i>Benign:</i></b> Not as dangerous as the former</li>\n",
    "    </ul>\n",
    "</p>\n",
    "\n"
   ]
  },
  {
   "cell_type": "markdown",
   "id": "b5e7849b",
   "metadata": {},
   "source": [
    "<p>Here are <b><i>Sample IDs</i></b> and <b><i>nine</i></b> biological attributes of the cancer cell nuclei that have been calculated from the images:</p>\n",
    "\n",
    "<br />\n",
    "<br />\n"
   ]
  },
  {
   "cell_type": "markdown",
   "id": "3b32602f",
   "metadata": {},
   "source": [
    "<table width=\"95%\">\n",
    "    <tr align=\"center\">\n",
    "        <th>Attribute</th>\n",
    "        <th>Domain</th>\n",
    "        <th>Attribute</th>\n",
    "        <th>Domain</th>\n",
    "    </tr>\n",
    "    <tr align=\"center\">\n",
    "        <td>Sample Code Number</td>\n",
    "        <td>ID Number</td>\n",
    "        <td>Clumb Thickness</td>\n",
    "        <td>1 - 10</td>\n",
    "    </tr>\n",
    "    <tr align=\"center\">\n",
    "        <td>Uniformity of Cell Size</td>\n",
    "        <td>1 - 10</td>\n",
    "        <td>Uniformity of Cell Shape</td>\n",
    "        <td>1 - 10</td>\n",
    "    </tr>\n",
    "    <tr align=\"center\">\n",
    "        <td>Marginal Adhesion</td>\n",
    "        <td>1 - 10</td>\n",
    "        <td>Single Epithelial Cell Size</td>\n",
    "        <td>1 - 10</td>\n",
    "    </tr>\n",
    "    <tr align=\"center\">\n",
    "        <td>Bare Nuclei</td>\n",
    "        <td>1 - 10</td>\n",
    "        <td>Bland Chromatin</td>\n",
    "        <td>1 - 10</td>\n",
    "    </tr>\n",
    "    <tr align=\"center\">\n",
    "        <td>Normal Nucleoli</td>\n",
    "        <td>1 - 10</td>\n",
    "        <td>Mitoses</td>\n",
    "        <td>1 - 10</td>\n",
    "    </tr>\n",
    "</table>\n",
    "</font>\n",
    "\n",
    "<br />\n",
    "<br />\n"
   ]
  },
  {
   "cell_type": "markdown",
   "id": "564f9807",
   "metadata": {},
   "source": [
    "<p>The target being used for prediction is named class in the original <b><i>Class</i></b> schema, whereas we will refer to it as target, whereby:\n",
    "    <ul>\n",
    "        <li><b><i>Benign</i></b> is signified by 2</li>\n",
    "        <li><b><i>Malignant</i></b> is signified by 4</li>\n",
    "    </ul>\n",
    "</p>\n",
    "\n",
    "<br />\n",
    "<br />\n"
   ]
  },
  {
   "cell_type": "markdown",
   "id": "56c499e7",
   "metadata": {},
   "source": [
    "<h2 align=\"center\">Source</h2>\n",
    "\n",
    "<br />\n",
    "\n",
    "<ul>\n",
    "    <li><a href=\"http://syllabus.africacode.net/projects/data-science-specific/logistic-regression/breast-cancer/\">Brief</a></li>\n",
    "    <br />\n",
    "    <li><a href=\"http://syllabus.africacode.net/projects/data-science-specific/logistic-regression/breast-cancer/cancer.data\">Data</a></li>\n",
    "</ul>\n",
    "\n",
    "<br />\n",
    "<br />\n"
   ]
  },
  {
   "cell_type": "markdown",
   "id": "ecdb185b",
   "metadata": {},
   "source": [
    "<h2 align=\"center\">Imports</h2>\n",
    "\n",
    "<br />\n",
    "<br />\n"
   ]
  },
  {
   "cell_type": "code",
   "execution_count": 1,
   "id": "ff20f844",
   "metadata": {},
   "outputs": [],
   "source": [
    "from sklearn.model_selection import train_test_split\n",
    "from sklearn.linear_model import LogisticRegression\n",
    "from sklearn.metrics import ConfusionMatrixDisplay\n",
    "from sklearn.metrics import classification_report\n",
    "from sklearn.model_selection import GridSearchCV\n",
    "import seaborn as sns\n",
    "import pandas as pd\n",
    "import numpy as np\n"
   ]
  },
  {
   "cell_type": "markdown",
   "id": "6e040327",
   "metadata": {},
   "source": [
    "<br />\n",
    "\n",
    "<h2 align=\"center\">Global Settings</h2>\n",
    "\n",
    "<br />\n",
    "<br />\n"
   ]
  },
  {
   "cell_type": "code",
   "execution_count": 2,
   "id": "22c02b41",
   "metadata": {},
   "outputs": [],
   "source": [
    "BOLD = \"bold\"\n",
    "SMALL = 8\n",
    "MEDIUM = 16\n",
    "LARGE = 32\n",
    "\n",
    "sns.set(rc={\n",
    "    \"axes.labelpad\": MEDIUM,\n",
    "    \"axes.labelsize\": MEDIUM,\n",
    "    \"axes.labelweight\": BOLD,\n",
    "    \"axes.titlepad\": MEDIUM,\n",
    "    \"axes.titlesize\": LARGE,\n",
    "    \"axes.titleweight\": BOLD,\n",
    "    \"figure.figsize\": (MEDIUM, SMALL),\n",
    "    \"figure.titlesize\": LARGE,\n",
    "    \"figure.titleweight\": BOLD,\n",
    "})\n"
   ]
  }
 ],
 "metadata": {
  "kernelspec": {
   "display_name": "Python 3 (ipykernel)",
   "language": "python",
   "name": "python3"
  },
  "language_info": {
   "codemirror_mode": {
    "name": "ipython",
    "version": 3
   },
   "file_extension": ".py",
   "mimetype": "text/x-python",
   "name": "python",
   "nbconvert_exporter": "python",
   "pygments_lexer": "ipython3",
   "version": "3.9.12"
  }
 },
 "nbformat": 4,
 "nbformat_minor": 5
}
